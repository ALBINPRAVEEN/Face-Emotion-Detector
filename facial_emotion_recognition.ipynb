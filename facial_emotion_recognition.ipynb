{
  "nbformat": 4,
  "nbformat_minor": 0,
  "metadata": {
    "colab": {
      "name": "facial emotion recognition.ipynb",
      "provenance": [],
      "collapsed_sections": []
    },
    "kernelspec": {
      "name": "python3",
      "display_name": "Python 3"
    },
    "accelerator": "GPU"
  },
  "cells": [
    {
      "cell_type": "code",
      "metadata": {
        "id": "0JyAVtXyB_yN",
        "colab_type": "code",
        "colab": {}
      },
      "source": [
        "import pandas as pd\n",
        "import numpy as np\n",
        "import matplotlib.pyplot as plt\n",
        "import os\n",
        "import cv2"
      ],
      "execution_count": 0,
      "outputs": []
    },
    {
      "cell_type": "code",
      "metadata": {
        "id": "nX9OJo78aUsh",
        "colab_type": "code",
        "colab": {
          "base_uri": "https://localhost:8080/",
          "height": 34
        },
        "outputId": "1562dae3-f9cf-425b-a5f7-fcfcaa262e68"
      },
      "source": [
        "import tensorflow as tf\n",
        "tf.__version__"
      ],
      "execution_count": 2,
      "outputs": [
        {
          "output_type": "execute_result",
          "data": {
            "text/plain": [
              "'2.2.0-rc3'"
            ]
          },
          "metadata": {
            "tags": []
          },
          "execution_count": 2
        }
      ]
    },
    {
      "cell_type": "code",
      "metadata": {
        "id": "jlc3AjZ1TWTJ",
        "colab_type": "code",
        "colab": {}
      },
      "source": [
        "from tensorflow.keras.layers import Dense,Dropout,Flatten\n",
        "from tensorflow.keras.models import Sequential\n",
        "from tensorflow.keras.preprocessing.image import ImageDataGenerator\n",
        "from tensorflow.keras.layers import Convolution2D\n",
        "from tensorflow.keras.layers import MaxPooling2D"
      ],
      "execution_count": 0,
      "outputs": []
    },
    {
      "cell_type": "code",
      "metadata": {
        "id": "vmLMUyvnsxwV",
        "colab_type": "code",
        "colab": {}
      },
      "source": [
        "from sklearn.metrics import classification_report"
      ],
      "execution_count": 0,
      "outputs": []
    },
    {
      "cell_type": "markdown",
      "metadata": {
        "id": "cLcTEE0TbTJj",
        "colab_type": "text"
      },
      "source": [
        "## Building a CNN Model\n"
      ]
    },
    {
      "cell_type": "code",
      "metadata": {
        "id": "ljvFcTL1auiG",
        "colab_type": "code",
        "colab": {}
      },
      "source": [
        "model=Sequential()"
      ],
      "execution_count": 0,
      "outputs": []
    },
    {
      "cell_type": "code",
      "metadata": {
        "id": "O35A4Q_2bcPO",
        "colab_type": "code",
        "colab": {}
      },
      "source": [
        "model.add(Convolution2D(64,(5,5),input_shape=(48,48,1),activation='relu'))\n",
        "model.add(Convolution2D(64,(5,5),activation='relu'))\n",
        "model.add(MaxPooling2D(pool_size=(2,2)))\n",
        "model.add(Dropout(0.4))\n",
        "model.add(Convolution2D(128,(3,3),activation='relu'))\n",
        "model.add(Convolution2D(128,(3,3),activation='relu'))\n",
        "model.add(MaxPooling2D(pool_size=(2,2)))\n",
        "model.add(Dropout(0.4))\n",
        "model.add(Flatten())\n",
        "model.add(Dense(units=128,activation='relu'))\n",
        "model.add(Dense(units=7,activation='softmax'))"
      ],
      "execution_count": 0,
      "outputs": []
    },
    {
      "cell_type": "code",
      "metadata": {
        "id": "kw3pfdqkfh7y",
        "colab_type": "code",
        "colab": {
          "base_uri": "https://localhost:8080/",
          "height": 542
        },
        "outputId": "9aedbc77-0100-428a-f37b-6922992b1977"
      },
      "source": [
        "model.summary()"
      ],
      "execution_count": 7,
      "outputs": [
        {
          "output_type": "stream",
          "text": [
            "Model: \"sequential\"\n",
            "_________________________________________________________________\n",
            "Layer (type)                 Output Shape              Param #   \n",
            "=================================================================\n",
            "conv2d (Conv2D)              (None, 44, 44, 64)        1664      \n",
            "_________________________________________________________________\n",
            "conv2d_1 (Conv2D)            (None, 40, 40, 64)        102464    \n",
            "_________________________________________________________________\n",
            "max_pooling2d (MaxPooling2D) (None, 20, 20, 64)        0         \n",
            "_________________________________________________________________\n",
            "dropout (Dropout)            (None, 20, 20, 64)        0         \n",
            "_________________________________________________________________\n",
            "conv2d_2 (Conv2D)            (None, 18, 18, 128)       73856     \n",
            "_________________________________________________________________\n",
            "conv2d_3 (Conv2D)            (None, 16, 16, 128)       147584    \n",
            "_________________________________________________________________\n",
            "max_pooling2d_1 (MaxPooling2 (None, 8, 8, 128)         0         \n",
            "_________________________________________________________________\n",
            "dropout_1 (Dropout)          (None, 8, 8, 128)         0         \n",
            "_________________________________________________________________\n",
            "flatten (Flatten)            (None, 8192)              0         \n",
            "_________________________________________________________________\n",
            "dense (Dense)                (None, 128)               1048704   \n",
            "_________________________________________________________________\n",
            "dense_1 (Dense)              (None, 7)                 903       \n",
            "=================================================================\n",
            "Total params: 1,375,175\n",
            "Trainable params: 1,375,175\n",
            "Non-trainable params: 0\n",
            "_________________________________________________________________\n"
          ],
          "name": "stdout"
        }
      ]
    },
    {
      "cell_type": "code",
      "metadata": {
        "id": "kzybn_q9kFBz",
        "colab_type": "code",
        "colab": {}
      },
      "source": [
        "model.compile(loss='categorical_crossentropy',optimizer='adam',metrics=['accuracy'])"
      ],
      "execution_count": 0,
      "outputs": []
    },
    {
      "cell_type": "markdown",
      "metadata": {
        "id": "pga7bfXCC_OJ",
        "colab_type": "text"
      },
      "source": [
        "## Image Argumentation"
      ]
    },
    {
      "cell_type": "code",
      "metadata": {
        "id": "K7Ok79-_g0xy",
        "colab_type": "code",
        "colab": {
          "base_uri": "https://localhost:8080/",
          "height": 52
        },
        "outputId": "d27d2c13-0044-4394-8137-0907ee86bbee"
      },
      "source": [
        "train_datagen = ImageDataGenerator(\n",
        "        rescale=1./255,\n",
        "        rotation_range=30,\n",
        "        shear_range=0.3,\n",
        "        zoom_range=0.3,\n",
        "        horizontal_flip=False)\n",
        "\n",
        "test_datagen = ImageDataGenerator(rescale=1./255)\n",
        "\n",
        "train_generator = train_datagen.flow_from_directory(\n",
        "        '/content/Training',\n",
        "        target_size=(48,48),\n",
        "        batch_size=512,\n",
        "        color_mode=\"grayscale\",\n",
        "        class_mode='categorical')\n",
        "\n",
        "validation_generator = test_datagen.flow_from_directory(\n",
        "        '/content/Testing',\n",
        "        target_size=(48,48),\n",
        "        batch_size=512,\n",
        "        color_mode=\"grayscale\",\n",
        "        class_mode='categorical')\n"
      ],
      "execution_count": 9,
      "outputs": [
        {
          "output_type": "stream",
          "text": [
            "Found 28709 images belonging to 7 classes.\n",
            "Found 7178 images belonging to 7 classes.\n"
          ],
          "name": "stdout"
        }
      ]
    },
    {
      "cell_type": "code",
      "metadata": {
        "id": "IC3QundqkxHO",
        "colab_type": "code",
        "colab": {}
      },
      "source": [
        "filepath = os.path.join(\"./emotion_detector_models/model_v{epoch}.hdf5\")\n",
        "\n",
        "checkpoint = tf.keras.callbacks.ModelCheckpoint(filepath,\n",
        "                                             monitor='val_accuracy',\n",
        "                                             verbose=1,\n",
        "                                             save_best_only=True,\n",
        "                                             mode='max')\n",
        "callbacks = [checkpoint]"
      ],
      "execution_count": 0,
      "outputs": []
    },
    {
      "cell_type": "code",
      "metadata": {
        "id": "4vUL74jxl8xg",
        "colab_type": "code",
        "colab": {}
      },
      "source": [
        "nb_train_samples = 28709\n",
        "nb_validation_samples = 7178\n",
        "batch_size=512"
      ],
      "execution_count": 0,
      "outputs": []
    },
    {
      "cell_type": "code",
      "metadata": {
        "id": "e4v11eUkj3jS",
        "colab_type": "code",
        "colab": {
          "base_uri": "https://localhost:8080/",
          "height": 1000
        },
        "outputId": "cd3db206-49ec-4a6a-bac2-5228b631ab56"
      },
      "source": [
        "history=model.fit_generator(\n",
        "        train_generator,\n",
        "        steps_per_epoch=nb_train_samples// batch_size,\n",
        "        epochs=50,\n",
        "        validation_data=validation_generator,\n",
        "        callbacks = callbacks,\n",
        "        validation_steps=nb_validation_samples // batch_size)"
      ],
      "execution_count": 12,
      "outputs": [
        {
          "output_type": "stream",
          "text": [
            "WARNING:tensorflow:From <ipython-input-12-059c04d1960f>:7: Model.fit_generator (from tensorflow.python.keras.engine.training) is deprecated and will be removed in a future version.\n",
            "Instructions for updating:\n",
            "Please use Model.fit, which supports generators.\n",
            "Epoch 1/50\n",
            "56/56 [==============================] - ETA: 0s - loss: 1.8276 - accuracy: 0.2423\n",
            "Epoch 00001: val_accuracy improved from -inf to 0.24777, saving model to ./emotion_detector_models/model_v_1.hdf5\n",
            "56/56 [==============================] - 18s 314ms/step - loss: 1.8276 - accuracy: 0.2423 - val_loss: 1.8138 - val_accuracy: 0.2478\n",
            "Epoch 2/50\n",
            "56/56 [==============================] - ETA: 0s - loss: 1.7829 - accuracy: 0.2603\n",
            "Epoch 00002: val_accuracy improved from 0.24777 to 0.29548, saving model to ./emotion_detector_models/model_v_2.hdf5\n",
            "56/56 [==============================] - 18s 322ms/step - loss: 1.7829 - accuracy: 0.2603 - val_loss: 1.7338 - val_accuracy: 0.2955\n",
            "Epoch 3/50\n",
            "56/56 [==============================] - ETA: 0s - loss: 1.7390 - accuracy: 0.2873\n",
            "Epoch 00003: val_accuracy improved from 0.29548 to 0.30539, saving model to ./emotion_detector_models/model_v_3.hdf5\n",
            "56/56 [==============================] - 18s 320ms/step - loss: 1.7390 - accuracy: 0.2873 - val_loss: 1.7157 - val_accuracy: 0.3054\n",
            "Epoch 4/50\n",
            "56/56 [==============================] - ETA: 0s - loss: 1.7190 - accuracy: 0.2997\n",
            "Epoch 00004: val_accuracy improved from 0.30539 to 0.34068, saving model to ./emotion_detector_models/model_v_4.hdf5\n",
            "56/56 [==============================] - 18s 313ms/step - loss: 1.7190 - accuracy: 0.2997 - val_loss: 1.6582 - val_accuracy: 0.3407\n",
            "Epoch 5/50\n",
            "56/56 [==============================] - ETA: 0s - loss: 1.6993 - accuracy: 0.3114\n",
            "Epoch 00005: val_accuracy improved from 0.34068 to 0.36761, saving model to ./emotion_detector_models/model_v_5.hdf5\n",
            "56/56 [==============================] - 18s 313ms/step - loss: 1.6993 - accuracy: 0.3114 - val_loss: 1.6181 - val_accuracy: 0.3676\n",
            "Epoch 6/50\n",
            "56/56 [==============================] - ETA: 0s - loss: 1.6599 - accuracy: 0.3429\n",
            "Epoch 00006: val_accuracy improved from 0.36761 to 0.40960, saving model to ./emotion_detector_models/model_v_6.hdf5\n",
            "56/56 [==============================] - 18s 314ms/step - loss: 1.6599 - accuracy: 0.3429 - val_loss: 1.5518 - val_accuracy: 0.4096\n",
            "Epoch 7/50\n",
            "56/56 [==============================] - ETA: 0s - loss: 1.6259 - accuracy: 0.3621\n",
            "Epoch 00007: val_accuracy improved from 0.40960 to 0.42020, saving model to ./emotion_detector_models/model_v_7.hdf5\n",
            "56/56 [==============================] - 18s 313ms/step - loss: 1.6259 - accuracy: 0.3621 - val_loss: 1.5101 - val_accuracy: 0.4202\n",
            "Epoch 8/50\n",
            "56/56 [==============================] - ETA: 0s - loss: 1.5828 - accuracy: 0.3804\n",
            "Epoch 00008: val_accuracy improved from 0.42020 to 0.44057, saving model to ./emotion_detector_models/model_v_8.hdf5\n",
            "56/56 [==============================] - 17s 311ms/step - loss: 1.5828 - accuracy: 0.3804 - val_loss: 1.4458 - val_accuracy: 0.4406\n",
            "Epoch 9/50\n",
            "56/56 [==============================] - ETA: 0s - loss: 1.5618 - accuracy: 0.3881\n",
            "Epoch 00009: val_accuracy improved from 0.44057 to 0.45480, saving model to ./emotion_detector_models/model_v_9.hdf5\n",
            "56/56 [==============================] - 17s 311ms/step - loss: 1.5618 - accuracy: 0.3881 - val_loss: 1.4139 - val_accuracy: 0.4548\n",
            "Epoch 10/50\n",
            "56/56 [==============================] - ETA: 0s - loss: 1.5336 - accuracy: 0.4060\n",
            "Epoch 00010: val_accuracy improved from 0.45480 to 0.47154, saving model to ./emotion_detector_models/model_v_10.hdf5\n",
            "56/56 [==============================] - 17s 312ms/step - loss: 1.5336 - accuracy: 0.4060 - val_loss: 1.3911 - val_accuracy: 0.4715\n",
            "Epoch 11/50\n",
            "56/56 [==============================] - ETA: 0s - loss: 1.4952 - accuracy: 0.4234\n",
            "Epoch 00011: val_accuracy improved from 0.47154 to 0.48744, saving model to ./emotion_detector_models/model_v_11.hdf5\n",
            "56/56 [==============================] - 17s 310ms/step - loss: 1.4952 - accuracy: 0.4234 - val_loss: 1.3454 - val_accuracy: 0.4874\n",
            "Epoch 12/50\n",
            "56/56 [==============================] - ETA: 0s - loss: 1.4662 - accuracy: 0.4339\n",
            "Epoch 00012: val_accuracy improved from 0.48744 to 0.48828, saving model to ./emotion_detector_models/model_v_12.hdf5\n",
            "56/56 [==============================] - 17s 310ms/step - loss: 1.4662 - accuracy: 0.4339 - val_loss: 1.3313 - val_accuracy: 0.4883\n",
            "Epoch 13/50\n",
            "56/56 [==============================] - ETA: 0s - loss: 1.4471 - accuracy: 0.4412\n",
            "Epoch 00013: val_accuracy improved from 0.48828 to 0.50084, saving model to ./emotion_detector_models/model_v_13.hdf5\n",
            "56/56 [==============================] - 17s 310ms/step - loss: 1.4471 - accuracy: 0.4412 - val_loss: 1.3010 - val_accuracy: 0.5008\n",
            "Epoch 14/50\n",
            "56/56 [==============================] - ETA: 0s - loss: 1.4145 - accuracy: 0.4538\n",
            "Epoch 00014: val_accuracy improved from 0.50084 to 0.50698, saving model to ./emotion_detector_models/model_v_14.hdf5\n",
            "56/56 [==============================] - 17s 309ms/step - loss: 1.4145 - accuracy: 0.4538 - val_loss: 1.2763 - val_accuracy: 0.5070\n",
            "Epoch 15/50\n",
            "56/56 [==============================] - ETA: 0s - loss: 1.3869 - accuracy: 0.4691\n",
            "Epoch 00015: val_accuracy improved from 0.50698 to 0.51367, saving model to ./emotion_detector_models/model_v_15.hdf5\n",
            "56/56 [==============================] - 17s 307ms/step - loss: 1.3869 - accuracy: 0.4691 - val_loss: 1.2569 - val_accuracy: 0.5137\n",
            "Epoch 16/50\n",
            "56/56 [==============================] - ETA: 0s - loss: 1.3785 - accuracy: 0.4693\n",
            "Epoch 00016: val_accuracy improved from 0.51367 to 0.52274, saving model to ./emotion_detector_models/model_v_16.hdf5\n",
            "56/56 [==============================] - 17s 311ms/step - loss: 1.3785 - accuracy: 0.4693 - val_loss: 1.2391 - val_accuracy: 0.5227\n",
            "Epoch 17/50\n",
            "56/56 [==============================] - ETA: 0s - loss: 1.3739 - accuracy: 0.4741\n",
            "Epoch 00017: val_accuracy improved from 0.52274 to 0.52651, saving model to ./emotion_detector_models/model_v_17.hdf5\n",
            "56/56 [==============================] - 17s 309ms/step - loss: 1.3739 - accuracy: 0.4741 - val_loss: 1.2314 - val_accuracy: 0.5265\n",
            "Epoch 18/50\n",
            "56/56 [==============================] - ETA: 0s - loss: 1.3576 - accuracy: 0.4805\n",
            "Epoch 00018: val_accuracy improved from 0.52651 to 0.53390, saving model to ./emotion_detector_models/model_v_18.hdf5\n",
            "56/56 [==============================] - 17s 306ms/step - loss: 1.3576 - accuracy: 0.4805 - val_loss: 1.2174 - val_accuracy: 0.5339\n",
            "Epoch 19/50\n",
            "56/56 [==============================] - ETA: 0s - loss: 1.3358 - accuracy: 0.4893\n",
            "Epoch 00019: val_accuracy improved from 0.53390 to 0.53725, saving model to ./emotion_detector_models/model_v_19.hdf5\n",
            "56/56 [==============================] - 17s 306ms/step - loss: 1.3358 - accuracy: 0.4893 - val_loss: 1.2120 - val_accuracy: 0.5372\n",
            "Epoch 20/50\n",
            "56/56 [==============================] - ETA: 0s - loss: 1.3212 - accuracy: 0.4968\n",
            "Epoch 00020: val_accuracy improved from 0.53725 to 0.54060, saving model to ./emotion_detector_models/model_v_20.hdf5\n",
            "56/56 [==============================] - 17s 307ms/step - loss: 1.3212 - accuracy: 0.4968 - val_loss: 1.1946 - val_accuracy: 0.5406\n",
            "Epoch 21/50\n",
            "56/56 [==============================] - ETA: 0s - loss: 1.3248 - accuracy: 0.4952\n",
            "Epoch 00021: val_accuracy improved from 0.54060 to 0.54185, saving model to ./emotion_detector_models/model_v_21.hdf5\n",
            "56/56 [==============================] - 17s 309ms/step - loss: 1.3248 - accuracy: 0.4952 - val_loss: 1.1847 - val_accuracy: 0.5419\n",
            "Epoch 22/50\n",
            "56/56 [==============================] - ETA: 0s - loss: 1.3000 - accuracy: 0.5021\n",
            "Epoch 00022: val_accuracy improved from 0.54185 to 0.54785, saving model to ./emotion_detector_models/model_v_22.hdf5\n",
            "56/56 [==============================] - 17s 305ms/step - loss: 1.3000 - accuracy: 0.5021 - val_loss: 1.1736 - val_accuracy: 0.5479\n",
            "Epoch 23/50\n",
            "56/56 [==============================] - ETA: 0s - loss: 1.2880 - accuracy: 0.5092\n",
            "Epoch 00023: val_accuracy did not improve from 0.54785\n",
            "56/56 [==============================] - 17s 303ms/step - loss: 1.2880 - accuracy: 0.5092 - val_loss: 1.1845 - val_accuracy: 0.5467\n",
            "Epoch 24/50\n",
            "56/56 [==============================] - ETA: 0s - loss: 1.2783 - accuracy: 0.5087\n",
            "Epoch 00024: val_accuracy improved from 0.54785 to 0.55343, saving model to ./emotion_detector_models/model_v_24.hdf5\n",
            "56/56 [==============================] - 17s 308ms/step - loss: 1.2783 - accuracy: 0.5087 - val_loss: 1.1653 - val_accuracy: 0.5534\n",
            "Epoch 25/50\n",
            "56/56 [==============================] - ETA: 0s - loss: 1.2748 - accuracy: 0.5144\n",
            "Epoch 00025: val_accuracy improved from 0.55343 to 0.55566, saving model to ./emotion_detector_models/model_v_25.hdf5\n",
            "56/56 [==============================] - 17s 306ms/step - loss: 1.2748 - accuracy: 0.5144 - val_loss: 1.1540 - val_accuracy: 0.5557\n",
            "Epoch 26/50\n",
            "56/56 [==============================] - ETA: 0s - loss: 1.2563 - accuracy: 0.5224\n",
            "Epoch 00026: val_accuracy did not improve from 0.55566\n",
            "56/56 [==============================] - 17s 309ms/step - loss: 1.2563 - accuracy: 0.5224 - val_loss: 1.1534 - val_accuracy: 0.5529\n",
            "Epoch 27/50\n",
            "56/56 [==============================] - ETA: 0s - loss: 1.2529 - accuracy: 0.5200\n",
            "Epoch 00027: val_accuracy did not improve from 0.55566\n",
            "56/56 [==============================] - 17s 306ms/step - loss: 1.2529 - accuracy: 0.5200 - val_loss: 1.1531 - val_accuracy: 0.5551\n",
            "Epoch 28/50\n",
            "56/56 [==============================] - ETA: 0s - loss: 1.2464 - accuracy: 0.5256\n",
            "Epoch 00028: val_accuracy improved from 0.55566 to 0.56431, saving model to ./emotion_detector_models/model_v_28.hdf5\n",
            "56/56 [==============================] - 17s 307ms/step - loss: 1.2464 - accuracy: 0.5256 - val_loss: 1.1449 - val_accuracy: 0.5643\n",
            "Epoch 29/50\n",
            "56/56 [==============================] - ETA: 0s - loss: 1.2356 - accuracy: 0.5300\n",
            "Epoch 00029: val_accuracy did not improve from 0.56431\n",
            "56/56 [==============================] - 17s 307ms/step - loss: 1.2356 - accuracy: 0.5300 - val_loss: 1.1618 - val_accuracy: 0.5583\n",
            "Epoch 30/50\n",
            "56/56 [==============================] - ETA: 0s - loss: 1.2333 - accuracy: 0.5290\n",
            "Epoch 00030: val_accuracy improved from 0.56431 to 0.56515, saving model to ./emotion_detector_models/model_v_30.hdf5\n",
            "56/56 [==============================] - 17s 304ms/step - loss: 1.2333 - accuracy: 0.5290 - val_loss: 1.1377 - val_accuracy: 0.5652\n",
            "Epoch 31/50\n",
            "56/56 [==============================] - ETA: 0s - loss: 1.2296 - accuracy: 0.5323\n",
            "Epoch 00031: val_accuracy did not improve from 0.56515\n",
            "56/56 [==============================] - 17s 309ms/step - loss: 1.2296 - accuracy: 0.5323 - val_loss: 1.1305 - val_accuracy: 0.5639\n",
            "Epoch 32/50\n",
            "56/56 [==============================] - ETA: 0s - loss: 1.2168 - accuracy: 0.5406\n",
            "Epoch 00032: val_accuracy did not improve from 0.56515\n",
            "56/56 [==============================] - 17s 303ms/step - loss: 1.2168 - accuracy: 0.5406 - val_loss: 1.1271 - val_accuracy: 0.5640\n",
            "Epoch 33/50\n",
            "56/56 [==============================] - ETA: 0s - loss: 1.2115 - accuracy: 0.5403\n",
            "Epoch 00033: val_accuracy improved from 0.56515 to 0.57506, saving model to ./emotion_detector_models/model_v_33.hdf5\n",
            "56/56 [==============================] - 18s 314ms/step - loss: 1.2115 - accuracy: 0.5403 - val_loss: 1.1103 - val_accuracy: 0.5751\n",
            "Epoch 34/50\n",
            "56/56 [==============================] - ETA: 0s - loss: 1.2085 - accuracy: 0.5374\n",
            "Epoch 00034: val_accuracy did not improve from 0.57506\n",
            "56/56 [==============================] - 17s 307ms/step - loss: 1.2085 - accuracy: 0.5374 - val_loss: 1.1155 - val_accuracy: 0.5727\n",
            "Epoch 35/50\n",
            "56/56 [==============================] - ETA: 0s - loss: 1.1968 - accuracy: 0.5435\n",
            "Epoch 00035: val_accuracy improved from 0.57506 to 0.57812, saving model to ./emotion_detector_models/model_v_35.hdf5\n",
            "56/56 [==============================] - 17s 309ms/step - loss: 1.1968 - accuracy: 0.5435 - val_loss: 1.1073 - val_accuracy: 0.5781\n",
            "Epoch 36/50\n",
            "56/56 [==============================] - ETA: 0s - loss: 1.2034 - accuracy: 0.5428\n",
            "Epoch 00036: val_accuracy improved from 0.57812 to 0.58161, saving model to ./emotion_detector_models/model_v_36.hdf5\n",
            "56/56 [==============================] - 17s 307ms/step - loss: 1.2034 - accuracy: 0.5428 - val_loss: 1.1114 - val_accuracy: 0.5816\n",
            "Epoch 37/50\n",
            "56/56 [==============================] - ETA: 0s - loss: 1.1884 - accuracy: 0.5491\n",
            "Epoch 00037: val_accuracy did not improve from 0.58161\n",
            "56/56 [==============================] - 17s 302ms/step - loss: 1.1884 - accuracy: 0.5491 - val_loss: 1.1078 - val_accuracy: 0.5755\n",
            "Epoch 38/50\n",
            "56/56 [==============================] - ETA: 0s - loss: 1.1851 - accuracy: 0.5493\n",
            "Epoch 00038: val_accuracy did not improve from 0.58161\n",
            "56/56 [==============================] - 17s 311ms/step - loss: 1.1851 - accuracy: 0.5493 - val_loss: 1.0984 - val_accuracy: 0.5811\n",
            "Epoch 39/50\n",
            "56/56 [==============================] - ETA: 0s - loss: 1.1798 - accuracy: 0.5547\n",
            "Epoch 00039: val_accuracy did not improve from 0.58161\n",
            "56/56 [==============================] - 18s 316ms/step - loss: 1.1798 - accuracy: 0.5547 - val_loss: 1.0987 - val_accuracy: 0.5794\n",
            "Epoch 40/50\n",
            "56/56 [==============================] - ETA: 0s - loss: 1.1798 - accuracy: 0.5520\n",
            "Epoch 00040: val_accuracy did not improve from 0.58161\n",
            "56/56 [==============================] - 17s 304ms/step - loss: 1.1798 - accuracy: 0.5520 - val_loss: 1.0991 - val_accuracy: 0.5811\n",
            "Epoch 41/50\n",
            "56/56 [==============================] - ETA: 0s - loss: 1.1703 - accuracy: 0.5526\n",
            "Epoch 00041: val_accuracy improved from 0.58161 to 0.58454, saving model to ./emotion_detector_models/model_v_41.hdf5\n",
            "56/56 [==============================] - 17s 303ms/step - loss: 1.1703 - accuracy: 0.5526 - val_loss: 1.0920 - val_accuracy: 0.5845\n",
            "Epoch 42/50\n",
            "56/56 [==============================] - ETA: 0s - loss: 1.1614 - accuracy: 0.5578\n",
            "Epoch 00042: val_accuracy did not improve from 0.58454\n",
            "56/56 [==============================] - 17s 302ms/step - loss: 1.1614 - accuracy: 0.5578 - val_loss: 1.0900 - val_accuracy: 0.5834\n",
            "Epoch 43/50\n",
            "56/56 [==============================] - ETA: 0s - loss: 1.1567 - accuracy: 0.5633\n",
            "Epoch 00043: val_accuracy improved from 0.58454 to 0.58859, saving model to ./emotion_detector_models/model_v_43.hdf5\n",
            "56/56 [==============================] - 17s 303ms/step - loss: 1.1567 - accuracy: 0.5633 - val_loss: 1.0906 - val_accuracy: 0.5886\n",
            "Epoch 44/50\n",
            "56/56 [==============================] - ETA: 0s - loss: 1.1617 - accuracy: 0.5587\n",
            "Epoch 00044: val_accuracy did not improve from 0.58859\n",
            "56/56 [==============================] - 17s 303ms/step - loss: 1.1617 - accuracy: 0.5587 - val_loss: 1.0930 - val_accuracy: 0.5840\n",
            "Epoch 45/50\n",
            "56/56 [==============================] - ETA: 0s - loss: 1.1549 - accuracy: 0.5600\n",
            "Epoch 00045: val_accuracy did not improve from 0.58859\n",
            "56/56 [==============================] - 17s 304ms/step - loss: 1.1549 - accuracy: 0.5600 - val_loss: 1.0845 - val_accuracy: 0.5869\n",
            "Epoch 46/50\n",
            "56/56 [==============================] - ETA: 0s - loss: 1.1555 - accuracy: 0.5648\n",
            "Epoch 00046: val_accuracy did not improve from 0.58859\n",
            "56/56 [==============================] - 17s 301ms/step - loss: 1.1555 - accuracy: 0.5648 - val_loss: 1.0898 - val_accuracy: 0.5848\n",
            "Epoch 47/50\n",
            "56/56 [==============================] - ETA: 0s - loss: 1.1501 - accuracy: 0.5674\n",
            "Epoch 00047: val_accuracy improved from 0.58859 to 0.59026, saving model to ./emotion_detector_models/model_v_47.hdf5\n",
            "56/56 [==============================] - 17s 303ms/step - loss: 1.1501 - accuracy: 0.5674 - val_loss: 1.0844 - val_accuracy: 0.5903\n",
            "Epoch 48/50\n",
            "56/56 [==============================] - ETA: 0s - loss: 1.1421 - accuracy: 0.5646\n",
            "Epoch 00048: val_accuracy did not improve from 0.59026\n",
            "56/56 [==============================] - 17s 304ms/step - loss: 1.1421 - accuracy: 0.5646 - val_loss: 1.0961 - val_accuracy: 0.5826\n",
            "Epoch 49/50\n",
            "56/56 [==============================] - ETA: 0s - loss: 1.1499 - accuracy: 0.5644\n",
            "Epoch 00049: val_accuracy did not improve from 0.59026\n",
            "56/56 [==============================] - 17s 305ms/step - loss: 1.1499 - accuracy: 0.5644 - val_loss: 1.0932 - val_accuracy: 0.5823\n",
            "Epoch 50/50\n",
            "56/56 [==============================] - ETA: 0s - loss: 1.1409 - accuracy: 0.5687\n",
            "Epoch 00050: val_accuracy did not improve from 0.59026\n",
            "56/56 [==============================] - 17s 301ms/step - loss: 1.1409 - accuracy: 0.5687 - val_loss: 1.0786 - val_accuracy: 0.5862\n"
          ],
          "name": "stdout"
        }
      ]
    },
    {
      "cell_type": "code",
      "metadata": {
        "id": "ayUv9KJFoUz4",
        "colab_type": "code",
        "colab": {
          "base_uri": "https://localhost:8080/",
          "height": 374
        },
        "outputId": "362183cf-59fd-422a-ddb7-eb15a3fb5c0d"
      },
      "source": [
        "fig,(ax1,ax2)=plt.subplots(nrows=1,ncols=2,figsize=(20,6))\n",
        "ax1.plot(history.history['accuracy'],label='train_accuracy')\n",
        "ax1.plot(history.history['val_accuracy'],label='test_accuracy')\n",
        "ax1.legend()\n",
        "ax2.plot(history.history['loss'],label='train_loss')\n",
        "ax2.plot(history.history['val_loss'],label='test_loss')\n",
        "ax2.legend()\n",
        "plt.show()"
      ],
      "execution_count": 13,
      "outputs": [
        {
          "output_type": "display_data",
          "data": {
            "image/png": "[encoded data removed]",
            "text/plain": [
              "<Figure size 1440x432 with 2 Axes>"
            ]
          },
          "metadata": {
            "tags": [],
            "needs_background": "light"
          }
        }
      ]
    },
    {
      "cell_type": "markdown",
      "metadata": {
        "id": "tSumRgD0DE5F",
        "colab_type": "text"
      },
      "source": [
        "## Predicting And Checking Accuracy"
      ]
    },
    {
      "cell_type": "code",
      "metadata": {
        "id": "ZI4rKmnvqypP",
        "colab_type": "code",
        "colab": {
          "base_uri": "https://localhost:8080/",
          "height": 139
        },
        "outputId": "4ed4b81a-60d1-4945-ee70-7c6529796aa5"
      },
      "source": [
        "class_labels = train_generator.class_indices\n",
        "class_labels"
      ],
      "execution_count": 14,
      "outputs": [
        {
          "output_type": "execute_result",
          "data": {
            "text/plain": [
              "{'Angry': 0,\n",
              " 'Disgust': 1,\n",
              " 'Fear': 2,\n",
              " 'Happy': 3,\n",
              " 'Neutral': 4,\n",
              " 'Sad': 5,\n",
              " 'Suprise': 6}"
            ]
          },
          "metadata": {
            "tags": []
          },
          "execution_count": 14
        }
      ]
    },
    {
      "cell_type": "code",
      "metadata": {
        "id": "NVTpY74MuARw",
        "colab_type": "code",
        "colab": {
          "base_uri": "https://localhost:8080/",
          "height": 34
        },
        "outputId": "9758cd1b-0b28-4da0-a444-0076bfc51821"
      },
      "source": [
        "predict_generator = test_datagen.flow_from_directory(\n",
        "        '/content/Testing',\n",
        "        target_size=(48,48),\n",
        "        batch_size=1,\n",
        "        color_mode=\"grayscale\",\n",
        "        shuffle = False,\n",
        "        class_mode='categorical')"
      ],
      "execution_count": 15,
      "outputs": [
        {
          "output_type": "stream",
          "text": [
            "Found 7178 images belonging to 7 classes.\n"
          ],
          "name": "stdout"
        }
      ]
    },
    {
      "cell_type": "code",
      "metadata": {
        "id": "l316iEBardoo",
        "colab_type": "code",
        "colab": {
          "base_uri": "https://localhost:8080/",
          "height": 89
        },
        "outputId": "5036447b-f6cc-469f-f4bb-67f5544a4ac6"
      },
      "source": [
        "Y_pred = model.predict_generator(predict_generator, nb_validation_samples)"
      ],
      "execution_count": 16,
      "outputs": [
        {
          "output_type": "stream",
          "text": [
            "WARNING:tensorflow:From <ipython-input-16-ab474448eb4c>:1: Model.predict_generator (from tensorflow.python.keras.engine.training) is deprecated and will be removed in a future version.\n",
            "Instructions for updating:\n",
            "Please use Model.predict, which supports generators.\n"
          ],
          "name": "stdout"
        }
      ]
    },
    {
      "cell_type": "code",
      "metadata": {
        "id": "UyY6a75Art53",
        "colab_type": "code",
        "colab": {}
      },
      "source": [
        "y_pred = np.argmax(Y_pred,axis=1)"
      ],
      "execution_count": 0,
      "outputs": []
    },
    {
      "cell_type": "code",
      "metadata": {
        "id": "icB_jOEaryPn",
        "colab_type": "code",
        "colab": {
          "base_uri": "https://localhost:8080/",
          "height": 34
        },
        "outputId": "628bb58b-2998-4050-f593-94044d380600"
      },
      "source": [
        "len(y_pred)"
      ],
      "execution_count": 18,
      "outputs": [
        {
          "output_type": "execute_result",
          "data": {
            "text/plain": [
              "7178"
            ]
          },
          "metadata": {
            "tags": []
          },
          "execution_count": 18
        }
      ]
    },
    {
      "cell_type": "code",
      "metadata": {
        "id": "oNjeNh4hr-RQ",
        "colab_type": "code",
        "colab": {
          "base_uri": "https://localhost:8080/",
          "height": 262
        },
        "outputId": "a5b371a4-bb10-4b0a-d5a3-5500b67f08d7"
      },
      "source": [
        "print(classification_report(predict_generator.classes, y_pred))"
      ],
      "execution_count": 19,
      "outputs": [
        {
          "output_type": "stream",
          "text": [
            "              precision    recall  f1-score   support\n",
            "\n",
            "           0       0.46      0.54      0.50       958\n",
            "           1       0.66      0.21      0.32       111\n",
            "           2       0.48      0.23      0.31      1024\n",
            "           3       0.77      0.86      0.81      1774\n",
            "           4       0.53      0.56      0.54      1233\n",
            "           5       0.44      0.51      0.47      1247\n",
            "           6       0.74      0.71      0.72       831\n",
            "\n",
            "    accuracy                           0.59      7178\n",
            "   macro avg       0.58      0.52      0.52      7178\n",
            "weighted avg       0.58      0.59      0.57      7178\n",
            "\n"
          ],
          "name": "stdout"
        }
      ]
    },
    {
      "cell_type": "markdown",
      "metadata": {
        "id": "7u4xJ50UFvcj",
        "colab_type": "text"
      },
      "source": [
        "#### The Highest Accuracy obtained using model as 59 %."
      ]
    }
  ]
}